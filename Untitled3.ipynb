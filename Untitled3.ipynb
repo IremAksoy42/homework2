{
 "cells": [
  {
   "cell_type": "code",
   "execution_count": 1,
   "metadata": {
    "collapsed": true
   },
   "outputs": [],
   "source": [
    "from __future__ import print_function, division\n",
    "\n",
    "import numpy as np\n",
    "\n",
    "import nsfg\n",
    "import first\n",
    "import thinkstats2\n",
    "import thinkplot"
   ]
  },
  {
   "cell_type": "code",
   "execution_count": 8,
   "metadata": {
    "collapsed": true
   },
   "outputs": [],
   "source": [
    "pres = nsfg.ReadFemResp()"
   ]
  },
  {
   "cell_type": "code",
   "execution_count": 9,
   "metadata": {
    "collapsed": false
   },
   "outputs": [
    {
     "data": {
      "text/plain": [
       "9.0       1\n",
       "11.0      2\n",
       "12.0      1\n",
       "13.0      3\n",
       "14.0     18\n",
       "15.0     50\n",
       "16.0    115\n",
       "17.0    173\n",
       "18.0    342\n",
       "19.0    328\n",
       "20.0    353\n",
       "21.0    364\n",
       "22.0    381\n",
       "23.0    359\n",
       "24.0    285\n",
       "25.0    261\n",
       "26.0    233\n",
       "27.0    177\n",
       "28.0    150\n",
       "29.0    129\n",
       "30.0     97\n",
       "31.0     72\n",
       "32.0     52\n",
       "33.0     49\n",
       "34.0     29\n",
       "35.0     35\n",
       "36.0     14\n",
       "37.0     14\n",
       "38.0     10\n",
       "39.0     10\n",
       "40.0      7\n",
       "41.0      6\n",
       "42.0      3\n",
       "43.0      3\n",
       "Name: fmar1age, dtype: int64"
      ]
     },
     "execution_count": 9,
     "metadata": {},
     "output_type": "execute_result"
    }
   ],
   "source": [
    "pres.fmar1age.value_counts().sort_index()"
   ]
  },
  {
   "cell_type": "code",
   "execution_count": 11,
   "metadata": {
    "collapsed": false
   },
   "outputs": [
    {
     "data": {
      "image/png": "[encoded data removed]",
      "text/plain": [
       "<matplotlib.figure.Figure at 0x152c4908>"
      ]
     },
     "metadata": {},
     "output_type": "display_data"
    }
   ],
   "source": [
    "hist = thinkstats2.Hist(pres[\"fmar1age\"].sort_index())\n",
    "\n",
    "thinkplot.Hist(hist)\n",
    "thinkplot.Show(xlabel='Age', ylabel='Amount of married')"
   ]
  },
  {
   "cell_type": "code",
   "execution_count": 13,
   "metadata": {
    "collapsed": false
   },
   "outputs": [
    {
     "data": {
      "text/plain": [
       "0       0\n",
       "1       2\n",
       "2       1\n",
       "3       0\n",
       "4       0\n",
       "5       1\n",
       "6       0\n",
       "7       0\n",
       "8       1\n",
       "9       0\n",
       "10      1\n",
       "11      1\n",
       "12      1\n",
       "13      2\n",
       "14      1\n",
       "15      0\n",
       "16      1\n",
       "17      1\n",
       "18      0\n",
       "19      1\n",
       "20      0\n",
       "21      1\n",
       "22      1\n",
       "23      1\n",
       "24      1\n",
       "25      0\n",
       "26      0\n",
       "27      1\n",
       "28      1\n",
       "29      1\n",
       "       ..\n",
       "7613    0\n",
       "7614    1\n",
       "7615    0\n",
       "7616    2\n",
       "7617    1\n",
       "7618    1\n",
       "7619    1\n",
       "7620    1\n",
       "7621    0\n",
       "7622    0\n",
       "7623    0\n",
       "7624    1\n",
       "7625    0\n",
       "7626    0\n",
       "7627    0\n",
       "7628    0\n",
       "7629    1\n",
       "7630    1\n",
       "7631    0\n",
       "7632    1\n",
       "7633    1\n",
       "7634    1\n",
       "7635    1\n",
       "7636    1\n",
       "7637    1\n",
       "7638    2\n",
       "7639    0\n",
       "7640    0\n",
       "7641    0\n",
       "7642    0\n",
       "Name: fmarno, dtype: int64"
      ]
     },
     "execution_count": 13,
     "metadata": {},
     "output_type": "execute_result"
    }
   ],
   "source": [
    "pres.fmarno"
   ]
  },
  {
   "cell_type": "code",
   "execution_count": 14,
   "metadata": {
    "collapsed": false
   },
   "outputs": [
    {
     "data": {
      "text/plain": [
       "0    3517\n",
       "1    3436\n",
       "2     582\n",
       "3      90\n",
       "4      15\n",
       "5       3\n",
       "Name: fmarno, dtype: int64"
      ]
     },
     "execution_count": 14,
     "metadata": {},
     "output_type": "execute_result"
    }
   ],
   "source": [
    "asd = thinkstats2.Hist(pres['fmarno'])\n",
    "pres.fmarno.value_counts().sort_index()"
   ]
  },
  {
   "cell_type": "code",
   "execution_count": 17,
   "metadata": {
    "collapsed": false
   },
   "outputs": [
    {
     "data": {
      "image/png": "[encoded data removed]",
      "text/plain": [
       "<matplotlib.figure.Figure at 0xa1d3208>"
      ]
     },
     "metadata": {},
     "output_type": "display_data"
    }
   ],
   "source": [
    "thinkplot.Hist(asd)\n",
    "thinkplot.Show(xlabel='Amount of Marriage ', ylabel='Number of people')"
   ]
  },
  {
   "cell_type": "code",
   "execution_count": 21,
   "metadata": {
    "collapsed": false
   },
   "outputs": [],
   "source": [
    ""
   ]
  },
  {
   "cell_type": "code",
   "execution_count": 23,
   "metadata": {
    "collapsed": false,
    "scrolled": true
   },
   "outputs": [
    {
     "data": {
      "text/plain": [
       "1      299\n",
       "2      301\n",
       "3      266\n",
       "4      421\n",
       "5      445\n",
       "6      559\n",
       "7      583\n",
       "8      606\n",
       "9      607\n",
       "10     468\n",
       "11     647\n",
       "12     658\n",
       "13     623\n",
       "14    1160\n",
       "Name: totincr, dtype: int64"
      ]
     },
     "execution_count": 23,
     "metadata": {},
     "output_type": "execute_result"
    }
   ],
   "source": [
    "xyz = thinkstats2.Hist(pres['totincr'])\n",
    "pres.totincr.value_counts().sort_index()"
   ]
  },
  {
   "cell_type": "code",
   "execution_count": 26,
   "metadata": {
    "collapsed": false
   },
   "outputs": [
    {
     "data": {
      "image/png": "[encoded data removed]",
      "text/plain": [
       "<matplotlib.figure.Figure at 0xa1a3240>"
      ]
     },
     "metadata": {},
     "output_type": "display_data"
    }
   ],
   "source": [
    "thinkplot.Hist(xyz) \n",
    "thinkplot.Show(xlabel='marriage', ylabel='Total income')"
   ]
  },
  {
   "cell_type": "code",
   "execution_count": 27,
   "metadata": {
    "collapsed": true
   },
   "outputs": [],
   "source": [
    "neverMarried = pres[pres.fmarno == 0]\n",
    "married =pres[pres.fmarno>=1]"
   ]
  },
  {
   "cell_type": "code",
   "execution_count": 37,
   "metadata": {
    "collapsed": false
   },
   "outputs": [
    {
     "data": {
      "image/png": "[encoded data removed]",
      "text/plain": [
       "<matplotlib.figure.Figure at 0xb95c940>"
      ]
     },
     "metadata": {},
     "output_type": "display_data"
    }
   ],
   "source": [
    "nnn= thinkstats2.Hist(neverMarried.totincr, label=\"Never Married\")\n",
    "mmm =thinkstats2.Hist(married.totincr, label=\"Married\")\n",
    "thinkplot.Hist(nnn,align='right',width=0.5)\n",
    "thinkplot.Hist(mmm,align='left',width=0.5,color= 'pink')\n",
    "\n",
    "thinkplot.Show(xlabel='Time', ylabel='Amount')"
   ]
  },
  {
   "cell_type": "code",
   "execution_count": 41,
   "metadata": {
    "collapsed": false
   },
   "outputs": [
    {
     "name": "stdout",
     "output_type": "stream",
     "text": [
      "The minumum value of the never married's income is 1.00\n",
      "The minumum value of the married's income is 1.00\n",
      "The standart deviation of the never married's 3.98\n",
      "The standart deviation of the married's 3.71\n",
      "The variance of the never married's 15.85\n",
      "The variance of the married's 13.80\n",
      "The mean of the never married's 8.02\n",
      "The mean of the married's 9.50\n"
     ]
    }
   ],
   "source": [
    "print(\"The minumum value of the never married's income is %.2f\" %(neverMarried.totincr.min()))\n",
    "print(\"The minumum value of the married's income is %.2f\" %(married.totincr.min()))\n",
    "print(\"The standart deviation of the never married's %.2f\" %neverMarried.totincr.std())\n",
    "print(\"The standart deviation of the married's %.2f\" %married.totincr.std())\n",
    "print(\"The variance of the never married's %.2f\" %neverMarried.totincr.var())\n",
    "print(\"The variance of the married's %.2f\" %married.totincr.var())\n",
    "print(\"The mean of the never married's %.2f\" %neverMarried.totincr.mean())\n",
    "print(\"The mean of the married's %.2f\" %married.totincr.mean())"
   ]
  },
  {
   "cell_type": "code",
   "execution_count": null,
   "metadata": {
    "collapsed": true
   },
   "outputs": [],
   "source": [
    ""
   ]
  }
 ],
 "metadata": {
  "kernelspec": {
   "display_name": "Python 2",
   "language": "python",
   "name": "python2"
  },
  "language_info": {
   "codemirror_mode": {
    "name": "ipython",
    "version": 2.0
   },
   "file_extension": ".py",
   "mimetype": "text/x-python",
   "name": "python",
   "nbconvert_exporter": "python",
   "pygments_lexer": "ipython2",
   "version": "2.7.13"
  }
 },
 "nbformat": 4,
 "nbformat_minor": 0
}